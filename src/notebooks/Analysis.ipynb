{
 "cells": [
  {
   "cell_type": "code",
   "execution_count": 32,
   "metadata": {},
   "outputs": [],
   "source": [
    "import seaborn as sns\n",
    "import numpy as np\n",
    "import matplotlib.pyplot as plt\n",
    "sns.set()"
   ]
  },
  {
   "cell_type": "code",
   "execution_count": 35,
   "metadata": {},
   "outputs": [],
   "source": [
    "def get_data(fname):\n",
    "    vals = []\n",
    "    with open(fname, 'r') as fin:\n",
    "        for line in fin:\n",
    "            pairs = line.rstrip('\\n').split(',')\n",
    "            vals.append(float(pairs[1]))\n",
    "    \n",
    "    return vals\n",
    "\n",
    "def plot_data(fname, label=''):\n",
    "    vals = get_data(fname)\n",
    "    #sns.distplot(vals, bins=12)\n",
    "    sns.distplot(vals, norm_hist=True, hist=True, kde=False, hist_kws={\"label\":label, \"histtype\": \"step\", \"linewidth\": 2, \"alpha\": 1})"
   ]
  },
  {
   "cell_type": "code",
   "execution_count": 39,
   "metadata": {},
   "outputs": [
    {
     "data": {
      "text/plain": [
       "<matplotlib.legend.Legend at 0x1a271effd0>"
      ]
     },
     "execution_count": 39,
     "metadata": {},
     "output_type": "execute_result"
    },
    {
     "data": {
      "image/png": "[encoded data removed]",
      "text/plain": [
       "<Figure size 432x288 with 1 Axes>"
      ]
     },
     "metadata": {},
     "output_type": "display_data"
    }
   ],
   "source": [
    "filename = '/Users/pawel/Projects/solubility/data/training/solubility.uniq.no-in-100.smi'\n",
    "f_100_gse = '/Users/pawel/Projects/solubility/data/test/test_100.with.gse.smi'\n",
    "f_100 = '/Users/pawel/Projects/solubility/data/test/test_100.in-train.smi'\n",
    "f_32_gse = '/Users/pawel/Projects/solubility/data/test/test_32.with.gse.smi'\n",
    "f_32 = '/Users/pawel/Projects/solubility/data/test/test_32.in-train.smi'\n",
    "clustered = '/Users/pawel/Projects/solubility/data/training/solubility.clustered.no-in-100.smi'\n",
    "\n",
    "#plot_data(filename, 'train')\n",
    "plot_data(f_100_gse, '100-gse')\n",
    "plot_data(f_100, '100-in-train')\n",
    "plot_data(f_32_gse, '32-gse')\n",
    "plot_data(f_32, '32-in-train')\n",
    "plot_data(clustered, 'clustered')\n",
    "plt.legend()"
   ]
  },
  {
   "cell_type": "code",
   "execution_count": null,
   "metadata": {},
   "outputs": [],
   "source": []
  },
  {
   "cell_type": "code",
   "execution_count": null,
   "metadata": {},
   "outputs": [],
   "source": []
  }
 ],
 "metadata": {
  "kernelspec": {
   "display_name": "Python 3",
   "language": "python",
   "name": "python3"
  },
  "language_info": {
   "codemirror_mode": {
    "name": "ipython",
    "version": 3
   },
   "file_extension": ".py",
   "mimetype": "text/x-python",
   "name": "python",
   "nbconvert_exporter": "python",
   "pygments_lexer": "ipython3",
   "version": "3.7.3"
  }
 },
 "nbformat": 4,
 "nbformat_minor": 2
}
